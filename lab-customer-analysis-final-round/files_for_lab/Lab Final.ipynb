{
 "cells": [
  {
   "cell_type": "code",
   "execution_count": null,
   "metadata": {},
   "outputs": [],
   "source": [
    "import pandas as pd\n",
    "import numpy as np\n",
    "import matplotlib.pyplot as plt\n",
    "import seaborn as sns\n",
    "%matplotlib inline\n",
    "\n",
    "data = pd.read_csv(\"marketing_customer_analysis.csv\")\n",
    "\n",
    "data.describe()"
   ]
  },
  {
   "cell_type": "code",
   "execution_count": null,
   "metadata": {},
   "outputs": [],
   "source": [
    "data.head()"
   ]
  },
  {
   "cell_type": "code",
   "execution_count": null,
   "metadata": {},
   "outputs": [],
   "source": [
    "data.columns"
   ]
  },
  {
   "cell_type": "code",
   "execution_count": null,
   "metadata": {},
   "outputs": [],
   "source": [
    "data.isna().sum()"
   ]
  },
  {
   "cell_type": "code",
   "execution_count": null,
   "metadata": {},
   "outputs": [],
   "source": [
    "data[\"Response\"].unique()"
   ]
  },
  {
   "cell_type": "code",
   "execution_count": null,
   "metadata": {},
   "outputs": [],
   "source": [
    "num_data = data.select_dtypes (include = \"number\")"
   ]
  },
  {
   "cell_type": "code",
   "execution_count": null,
   "metadata": {},
   "outputs": [],
   "source": [
    "cols = num_data.columns\n",
    "\n",
    "for col in cols:\n",
    "    sns.boxplot(num_data[col])\n",
    "    print (\"boxplot for numerical data: \",col)\n",
    "    plt.show()\n",
    "    sns.distplot(num_data[col])\n",
    "    print (\"distplot for numerical data: \", col)\n",
    "    plt.show()\n",
    "    \n",
    "outliers = [\"Customer Lifetime Value\", \"Monthly Premium Auto\", \"Number of Policies\", \"Total Claim Amount\"]\n",
    "cleaned = data\n",
    "\n",
    "for out in outliers:\n",
    "    IQR1 = data[out].quantile(0.25) - 1.5*(data[out].quantile(0.75) - data[out].quantile(0.25))\n",
    "    IQR2 = data[out].quantile(0.75) + 1.5*(data[out].quantile(0.75) - data[out].quantile(0.25))\n",
    "    cleaned = cleaned[(cleaned[out] > IQR1) & (cleaned[out] < IQR2)]\n",
    "    \n",
    "cleaned"
   ]
  },
  {
   "cell_type": "code",
   "execution_count": null,
   "metadata": {},
   "outputs": [],
   "source": [
    "##########\n",
    "num_cleaned = cleaned.select_dtypes (include = \"number\")\n",
    "str_cleaned = cleaned.select_dtypes (include = \"object\")\n",
    "\n",
    "coll = num_cleaned.columns\n",
    "\n",
    "for col in cols:\n",
    "    sns.boxplot(num_cleaned[col])\n",
    "    print (\"boxplot for numerical data: \",col)\n",
    "    plt.show()\n",
    "###########"
   ]
  },
  {
   "cell_type": "code",
   "execution_count": null,
   "metadata": {},
   "outputs": [],
   "source": [
    "num_cleaned = cleaned.select_dtypes (include = \"number\")\n",
    "str_cleaned = cleaned.select_dtypes (include = \"object\")\n",
    "\n",
    "num_cleaned"
   ]
  },
  {
   "cell_type": "code",
   "execution_count": null,
   "metadata": {},
   "outputs": [],
   "source": [
    "str_cleaned"
   ]
  },
  {
   "cell_type": "code",
   "execution_count": null,
   "metadata": {},
   "outputs": [],
   "source": [
    "y = num_cleaned[\"Total Claim Amount\"]\n",
    "x = num_cleaned.drop(\"Total Claim Amount\", axis = 1)\n",
    "\n",
    "from sklearn.preprocessing import Normalizer\n",
    "transformer = Normalizer().fit(x)\n",
    "x_normalized = transformer.transform(x)"
   ]
  },
  {
   "cell_type": "code",
   "execution_count": null,
   "metadata": {},
   "outputs": [],
   "source": [
    "df_norm = pd.DataFrame(x_normalized)"
   ]
  },
  {
   "cell_type": "code",
   "execution_count": null,
   "metadata": {},
   "outputs": [],
   "source": [
    "df_norm"
   ]
  },
  {
   "cell_type": "code",
   "execution_count": null,
   "metadata": {},
   "outputs": [],
   "source": [
    "str_cleaned"
   ]
  },
  {
   "cell_type": "code",
   "execution_count": null,
   "metadata": {},
   "outputs": [],
   "source": [
    "str_cleaned.reset_index(inplace = True)"
   ]
  },
  {
   "cell_type": "code",
   "execution_count": null,
   "metadata": {},
   "outputs": [],
   "source": [
    "str_cleaned.drop(\"index\", inplace = True, axis = 1)"
   ]
  },
  {
   "cell_type": "code",
   "execution_count": null,
   "metadata": {},
   "outputs": [],
   "source": [
    "str_cleaned.drop(\"Customer\", inplace = True, axis = 1)"
   ]
  },
  {
   "cell_type": "code",
   "execution_count": null,
   "metadata": {},
   "outputs": [],
   "source": [
    "str_cleaned.columns"
   ]
  },
  {
   "cell_type": "code",
   "execution_count": null,
   "metadata": {},
   "outputs": [],
   "source": [
    "for col in str_cleaned.columns:\n",
    "    print(\"Dummification of the col: \",col)\n",
    "    print(pd.get_dummies(str_cleaned[col], drop_first = True))"
   ]
  },
  {
   "cell_type": "code",
   "execution_count": null,
   "metadata": {},
   "outputs": [],
   "source": [
    "for col in str_cleaned.columns:\n",
    "    dummy = pd.get_dummies(str_cleaned[col], drop_first = True)\n",
    "    df_norm = pd.concat([df_norm,dummy], axis = 1)\n",
    "\n",
    "    \n",
    "num_cleaned.reset_index(inplace = True)\n",
    "num_cleaned.drop(\"index\", inplace = True, axis = 1)\n",
    "df_norm = pd.concat([df_norm,num_cleaned[\"Total Claim Amount\"]], axis = 1)\n",
    "df_norm"
   ]
  },
  {
   "cell_type": "code",
   "execution_count": null,
   "metadata": {},
   "outputs": [],
   "source": [
    "#encoder = OneHotEncoder(handle_unknown='error', drop = \"first\").fit(data[[\"gender\"]])\n",
    "#encoded = encoder.transform(data[[\"gender\"]]).toarray()\n",
    "#encoded"
   ]
  },
  {
   "cell_type": "code",
   "execution_count": null,
   "metadata": {},
   "outputs": [],
   "source": [
    "df_norm"
   ]
  },
  {
   "cell_type": "code",
   "execution_count": null,
   "metadata": {},
   "outputs": [],
   "source": [
    "# Test Split\n",
    "Y = df_norm[\"Total Claim Amount\"]\n",
    "X = df_norm.drop(columns = \"Total Claim Amount\")\n",
    "from sklearn.model_selection import train_test_split\n",
    "X_train, X_test, Y_train, Y_test = train_test_split(X,Y, test_size = 0.3, random_state = 100)\n",
    "\n",
    "from sklearn import linear_model\n",
    "from sklearn.metrics import mean_squared_error, r2_score, mean_absolute_error\n",
    "from math import sqrt\n",
    "lm = linear_model.LinearRegression()\n",
    "model = lm.fit(X_train, Y_train)\n",
    "lm.score(X,Y)\n",
    "print (\"lm intercept: \", lm.intercept_,\"\\n\")\n",
    "print (\"lm coeff: \", lm.coef_,\"\\n\")\n",
    "predictions = lm.predict(X_test)\n",
    "\n",
    "residuals = predictions - Y_test\n",
    "sns.distplot(residuals)\n",
    "plt.show()\n",
    "\n",
    "\n",
    "mae = mean_absolute_error(Y,predictions)\n",
    "print (\"mae is: \", mae, \"\\n\")\n",
    "mse = mean_squared_error(Y,predictions)\n",
    "print (\"mse is: \", mse, \"\\n\")\n",
    "rmse = sqrt(mse)\n",
    "print (\"rmse is: \", rmse, \"\\n\")\n",
    "r2 = r2_score(Y,predictions)\n",
    "print (\"r2 is: \", r2)"
   ]
  },
  {
   "cell_type": "code",
   "execution_count": null,
   "metadata": {},
   "outputs": [],
   "source": [
    "#### Stats Model\n",
    "import statsmodels.api as sm\n",
    "from statsmodels.formula.api import ols\n",
    "Y = data2[\"median_home_val\"]\n",
    "X = data2.drop([\"median_home_val\"], axis = 1)\n",
    "X = sm.add_constant(X)\n",
    "model = sm.OLS(Y,X).fit()\n",
    "print (model.summary())"
   ]
  }
 ],
 "metadata": {
  "kernelspec": {
   "display_name": "Python 3",
   "language": "python",
   "name": "python3"
  },
  "language_info": {
   "codemirror_mode": {
    "name": "ipython",
    "version": 3
   },
   "file_extension": ".py",
   "mimetype": "text/x-python",
   "name": "python",
   "nbconvert_exporter": "python",
   "pygments_lexer": "ipython3",
   "version": "3.8.3"
  }
 },
 "nbformat": 4,
 "nbformat_minor": 2
}
